{
 "cells": [
  {
   "cell_type": "markdown",
   "id": "186cbf3b",
   "metadata": {},
   "source": [
    "# 🧠 Consent-Aware AI: CPL Demonstration Notebook\n",
    "This notebook demonstrates how to use the `ConsentVector` and `ConsentStateMachine` classes to simulate real-time consent modeling for human-AI interaction."
   ]
  },
  {
   "cell_type": "code",
   "execution_count": null,
   "id": "73fad972",
   "metadata": {},
   "outputs": [],
   "source": [
    "# Import classes from local modules\n",
    "from boundary_model import ConsentVector\n",
    "from csm_state_machine import ConsentStateMachine, ConsentEvent"
   ]
  },
  {
   "cell_type": "code",
   "execution_count": null,
   "id": "b3305970",
   "metadata": {},
   "outputs": [],
   "source": [
    "# Initialize consent vector and state machine\n",
    "cv = ConsentVector()\n",
    "csm = ConsentStateMachine()"
   ]
  },
  {
   "cell_type": "code",
   "execution_count": null,
   "id": "e0e7adeb",
   "metadata": {},
   "outputs": [],
   "source": [
    "# Set example consent boundaries\n",
    "cv.set_topic_boundary(\"family\", False)\n",
    "cv.set_emotional_threshold(4)\n",
    "cv.set_time_window(time(9, 0), time(17, 0))\n",
    "cv.toggle_behavior(\"notifications_enabled\")"
   ]
  },
  {
   "cell_type": "markdown",
   "id": "532ecccb",
   "metadata": {},
   "source": [
    "### 📊 Current Consent Vector"
   ]
  },
  {
   "cell_type": "code",
   "execution_count": null,
   "id": "227db5d9",
   "metadata": {},
   "outputs": [],
   "source": [
    "cv.get_status()"
   ]
  },
  {
   "cell_type": "markdown",
   "id": "7f1940a4",
   "metadata": {},
   "source": [
    "### 🔄 Simulate Consent Events"
   ]
  },
  {
   "cell_type": "code",
   "execution_count": null,
   "id": "17fef45c",
   "metadata": {},
   "outputs": [],
   "source": [
    "print('Initial State:', csm.state.name)\n",
    "csm.handle_event(ConsentEvent.BOUNDARY_APPROACH)\n",
    "csm.handle_event(ConsentEvent.VIOLATION_DETECTED)\n",
    "csm.handle_event(ConsentEvent.REPAIR_COMPLETE)\n",
    "csm.handle_event(ConsentEvent.USER_REVOKE)\n",
    "csm.handle_event(ConsentEvent.USER_RESUME)"
   ]
  },
  {
   "cell_type": "markdown",
   "id": "4ba7bd8d",
   "metadata": {},
   "source": [
    "### ✅ Check if current time is within allowed window"
   ]
  },
  {
   "cell_type": "code",
   "execution_count": null,
   "id": "47ddbfc7",
   "metadata": {},
   "outputs": [],
   "source": [
    "cv.is_within_time_window()"
   ]
  },
  {
   "cell_type": "markdown",
   "id": "9b384eb9",
   "metadata": {},
   "source": [
    "This concludes the core demonstration of dynamic consent logic using the Consent Protocol Layer (CPL) components."
   ]
  }
 ],
 "metadata": {
  "language_info": {
   "name": "python"
  }
 },
 "nbformat": 4,
 "nbformat_minor": 5
}
